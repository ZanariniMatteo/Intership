{
 "cells": [
  {
   "cell_type": "markdown",
   "id": "98a6dc16",
   "metadata": {},
   "source": [
    "# Packages"
   ]
  },
  {
   "cell_type": "code",
   "execution_count": null,
   "id": "c73322e2",
   "metadata": {},
   "outputs": [],
   "source": [
    "from preProcessing_class import DataHandler\n",
    "from modellingPipeLine import ChurnModelling\n",
    "\n",
    "from sklearn.model_selection import KFold\n",
    "import pandas as pd\n",
    "import numpy as np\n",
    "import matplotlib.pyplot as plt\n",
    "\n",
    "import pickle"
   ]
  },
  {
   "cell_type": "markdown",
   "id": "6d577fe9",
   "metadata": {},
   "source": [
    "# Modelling PipeLine"
   ]
  },
  {
   "cell_type": "markdown",
   "id": "f052ae84",
   "metadata": {},
   "source": [
    "### Dataset"
   ]
  },
  {
   "cell_type": "code",
   "execution_count": 2,
   "id": "dec03aac",
   "metadata": {},
   "outputs": [],
   "source": [
    "df = pd.read_csv(\"ecommerce_customer_data_large.csv\", sep=\",\")\n",
    "\n",
    "processingPipeLine = DataHandler(df, cutting=[18, 30, 70]) # minimum age: 18, maximum age: 70\n",
    "processingPipeLine.preProcessing()  \n",
    "\n",
    "data=processingPipeLine.dataAgg"
   ]
  },
  {
   "cell_type": "markdown",
   "id": "fdd22442",
   "metadata": {},
   "source": [
    "*setting parameters*"
   ]
  },
  {
   "cell_type": "code",
   "execution_count": 3,
   "id": "8e286d30",
   "metadata": {},
   "outputs": [],
   "source": [
    "cv_lasso=3        # cv folds for tuning the best lasso lambda\n",
    "range_knn=26      # max range of neighbors for the knn model\n",
    "cv_knn=3          # cv folds for tuning the best k.nearest neighbors\n",
    "range_tree=36     # max depth of the tree in the tree model\n",
    "cv_tree=3         # cv folds for tuning the best depth of the tree\n",
    "seed=123          # set random seed\n",
    "\n",
    "folders_splitting_test_train = 3  # cv folds for the scoring metrics"
   ]
  },
  {
   "cell_type": "markdown",
   "id": "20c0a100",
   "metadata": {},
   "source": [
    "### Cross-validation"
   ]
  },
  {
   "cell_type": "code",
   "execution_count": 4,
   "id": "5e8b0021",
   "metadata": {},
   "outputs": [],
   "source": [
    "modellingPipeLine = ChurnModelling(set_seed=seed)"
   ]
  },
  {
   "cell_type": "code",
   "execution_count": 5,
   "id": "dda11999",
   "metadata": {},
   "outputs": [],
   "source": [
    "kf = KFold(n_splits=folders_splitting_test_train, shuffle=True, random_state=seed)\n",
    "list_y_test = []\n",
    "dict_models = {}\n",
    "scoreMatrix = []\n",
    "confusionMatrix = {}\n",
    "\n",
    "i = 0\n",
    "# making cross-validation\n",
    "for train_index, test_index in kf.split(data):\n",
    "    # splitting train/test\n",
    "    data_train = data.iloc[train_index]\n",
    "    data_test = data.iloc[test_index]\n",
    "    # calling method \"modelling\" giving as parameters data_train e data_test\n",
    "    models, y_test, score_matrix_test = modellingPipeLine.modelling(data_train, data_test, cv_lasso, range_knn, cv_knn, range_tree, cv_tree)\n",
    "    # dictionary with the models predictions\n",
    "    dict_models[i] = models\n",
    "    # list with the y_test for each cross validation\n",
    "    list_y_test.append(y_test)\n",
    "    # list with the score matrix for each cross validation (f1 and precision)\n",
    "    scoreMatrix.append(score_matrix_test)\n",
    "    # dictionary with confusion matrix for each model for each cross validation\n",
    "    confusionMatrix[i] = (modellingPipeLine.confusion_matrix(models, y_test))\n",
    "\n",
    "    i+=1"
   ]
  },
  {
   "cell_type": "code",
   "execution_count": null,
   "id": "a966611e",
   "metadata": {},
   "outputs": [],
   "source": [
    "saving_vars = [dict_models, list_y_test, scoreMatrix, confusionMatrix]\n",
    "\n",
    "with open('ambiente.pkl', 'wb') as f:\n",
    "    pickle.dump(saving_vars, f)"
   ]
  },
  {
   "cell_type": "code",
   "execution_count": null,
   "id": "13016a90",
   "metadata": {},
   "outputs": [],
   "source": [
    "with open('ambiente.pkl', 'rb') as f:\n",
    "    dict_models, list_y_test, scoreMatrix, confusionMatrix = pickle.load(f)"
   ]
  },
  {
   "cell_type": "markdown",
   "id": "ec5ef14d",
   "metadata": {},
   "source": [
    "## Models evaluation"
   ]
  },
  {
   "cell_type": "markdown",
   "id": "fa431906",
   "metadata": {},
   "source": [
    "*confusion matrix*"
   ]
  },
  {
   "cell_type": "code",
   "execution_count": 29,
   "id": "08a8f0c3",
   "metadata": {},
   "outputs": [
    {
     "name": "stdout",
     "output_type": "stream",
     "text": [
      "Cross-validation: 1\n",
      "\n",
      "Baseline Random\n",
      "       0     1\n",
      "0  10469  2674\n",
      "1   2628   611 \n",
      "\n",
      "Baseline Zeros\n",
      "       0  1\n",
      "0  13143  0\n",
      "1   3239  0 \n",
      "\n",
      "Baseline Ones\n",
      "   0      1\n",
      "0  0  13143\n",
      "1  0   3239 \n",
      "\n",
      "Logistic Regression\n",
      "       0  1\n",
      "0  13143  0\n",
      "1   3239  0 \n",
      "\n",
      "Lasso CV\n",
      "   0      1\n",
      "0  0  13143\n",
      "1  0   3239 \n",
      "\n",
      "Naive Bayes\n",
      "       0  1\n",
      "0  13143  0\n",
      "1   3239  0 \n",
      "\n",
      "K-Nearest Neighbors\n",
      "       0     1\n",
      "0  10555  2588\n",
      "1   2564   675 \n",
      "\n",
      "Decision Tree\n",
      "       0     1\n",
      "0  10244  2899\n",
      "1   2531   708 \n",
      "\n",
      "Cross-validation: 2\n",
      "\n",
      "Baseline Random\n",
      "       0     1\n",
      "0  10449  2630\n",
      "1   2637   666 \n",
      "\n",
      "Baseline Zeros\n",
      "       0  1\n",
      "0  13079  0\n",
      "1   3303  0 \n",
      "\n",
      "Baseline Ones\n",
      "   0      1\n",
      "0  0  13079\n",
      "1  0   3303 \n",
      "\n",
      "Logistic Regression\n",
      "       0  1\n",
      "0  13079  0\n",
      "1   3303  0 \n",
      "\n",
      "Lasso CV\n",
      "   0      1\n",
      "0  0  13079\n",
      "1  0   3303 \n",
      "\n",
      "Naive Bayes\n",
      "       0  1\n",
      "0  13079  0\n",
      "1   3303  0 \n",
      "\n",
      "K-Nearest Neighbors\n",
      "       0     1\n",
      "0  10555  2524\n",
      "1   2626   677 \n",
      "\n",
      "Decision Tree\n",
      "       0     1\n",
      "0  10107  2972\n",
      "1   2565   738 \n",
      "\n",
      "Cross-validation: 3\n",
      "\n",
      "Baseline Random\n",
      "       0     1\n",
      "0  10420  2686\n",
      "1   2632   644 \n",
      "\n",
      "Baseline Zeros\n",
      "       0  1\n",
      "0  13106  0\n",
      "1   3276  0 \n",
      "\n",
      "Baseline Ones\n",
      "   0      1\n",
      "0  0  13106\n",
      "1  0   3276 \n",
      "\n",
      "Logistic Regression\n",
      "       0  1\n",
      "0  13106  0\n",
      "1   3276  0 \n",
      "\n",
      "Lasso CV\n",
      "    0      1\n",
      "0  11  13095\n",
      "1   0   3276 \n",
      "\n",
      "Naive Bayes\n",
      "       0  1\n",
      "0  13106  0\n",
      "1   3276  0 \n",
      "\n",
      "K-Nearest Neighbors\n",
      "       0     1\n",
      "0  10483  2623\n",
      "1   2631   645 \n",
      "\n",
      "Decision Tree\n",
      "       0     1\n",
      "0  10132  2974\n",
      "1   2539   737 \n",
      "\n"
     ]
    }
   ],
   "source": [
    "for i in range(0, folders_splitting_test_train):\n",
    "  print(f\"Cross-validation: {i+1}\\n\")\n",
    "  for name, pred in dict_models[i].items():\n",
    "    print(name)\n",
    "    print(confusionMatrix[i][name], \"\\n\")"
   ]
  },
  {
   "cell_type": "markdown",
   "id": "a648766d",
   "metadata": {},
   "source": [
    "*score matrix: precision, f1*"
   ]
  },
  {
   "cell_type": "code",
   "execution_count": 35,
   "id": "89e7472f",
   "metadata": {},
   "outputs": [
    {
     "data": {
      "text/html": [
       "<div>\n",
       "<style scoped>\n",
       "    .dataframe tbody tr th:only-of-type {\n",
       "        vertical-align: middle;\n",
       "    }\n",
       "\n",
       "    .dataframe tbody tr th {\n",
       "        vertical-align: top;\n",
       "    }\n",
       "\n",
       "    .dataframe thead th {\n",
       "        text-align: right;\n",
       "    }\n",
       "</style>\n",
       "<table border=\"1\" class=\"dataframe\">\n",
       "  <thead>\n",
       "    <tr style=\"text-align: right;\">\n",
       "      <th></th>\n",
       "      <th>Modello</th>\n",
       "      <th>Precision</th>\n",
       "      <th>F1</th>\n",
       "    </tr>\n",
       "  </thead>\n",
       "  <tbody>\n",
       "    <tr>\n",
       "      <th>0</th>\n",
       "      <td>Baseline Random</td>\n",
       "      <td>0.193818</td>\n",
       "      <td>0.194710</td>\n",
       "    </tr>\n",
       "    <tr>\n",
       "      <th>1</th>\n",
       "      <td>Baseline Zeros</td>\n",
       "      <td>0.000000</td>\n",
       "      <td>0.000000</td>\n",
       "    </tr>\n",
       "    <tr>\n",
       "      <th>2</th>\n",
       "      <td>Baseline Ones</td>\n",
       "      <td>0.199772</td>\n",
       "      <td>0.333014</td>\n",
       "    </tr>\n",
       "    <tr>\n",
       "      <th>3</th>\n",
       "      <td>Logistic Regression</td>\n",
       "      <td>0.000000</td>\n",
       "      <td>0.000000</td>\n",
       "    </tr>\n",
       "    <tr>\n",
       "      <th>4</th>\n",
       "      <td>Lasso CV</td>\n",
       "      <td>0.199817</td>\n",
       "      <td>0.333076</td>\n",
       "    </tr>\n",
       "    <tr>\n",
       "      <th>5</th>\n",
       "      <td>Naive Bayes</td>\n",
       "      <td>0.000000</td>\n",
       "      <td>0.000000</td>\n",
       "    </tr>\n",
       "    <tr>\n",
       "      <th>6</th>\n",
       "      <td>K-Nearest Neighbors</td>\n",
       "      <td>0.205243</td>\n",
       "      <td>0.204312</td>\n",
       "    </tr>\n",
       "    <tr>\n",
       "      <th>7</th>\n",
       "      <td>Decision Tree</td>\n",
       "      <td>0.197935</td>\n",
       "      <td>0.209422</td>\n",
       "    </tr>\n",
       "  </tbody>\n",
       "</table>\n",
       "</div>"
      ],
      "text/plain": [
       "               Modello  Precision        F1\n",
       "0      Baseline Random   0.193818  0.194710\n",
       "1       Baseline Zeros   0.000000  0.000000\n",
       "2        Baseline Ones   0.199772  0.333014\n",
       "3  Logistic Regression   0.000000  0.000000\n",
       "4             Lasso CV   0.199817  0.333076\n",
       "5          Naive Bayes   0.000000  0.000000\n",
       "6  K-Nearest Neighbors   0.205243  0.204312\n",
       "7        Decision Tree   0.197935  0.209422"
      ]
     },
     "execution_count": 35,
     "metadata": {},
     "output_type": "execute_result"
    }
   ],
   "source": [
    "# inizialization\n",
    "final_score_matrix = {}\n",
    "# double for: model - crossa validation index\n",
    "for model_index in range(0, len(dict_models[0].keys())):\n",
    "    temp_precision_sum = 0\n",
    "    temp_f1_sum = 0\n",
    "    for cv_index in range(0, folders_splitting_test_train):\n",
    "        # temporary sums for precision and f1\n",
    "        temp_precision_sum += scoreMatrix[cv_index]['precision'][model_index]\n",
    "        temp_f1_sum += scoreMatrix[cv_index]['f1'][model_index]\n",
    "    # final dictionary with the average value for precision and model for each model\n",
    "    final_score_matrix[scoreMatrix[cv_index]['model'][model_index]] = {'Precision': temp_precision_sum/folders_splitting_test_train, \n",
    "                                                    'F1': temp_f1_sum/folders_splitting_test_train}\n",
    "# changing dict into df\n",
    "final_score_matrix = pd.DataFrame.from_dict(final_score_matrix, orient='index').reset_index()\n",
    "final_score_matrix.columns = ['Modello', 'Precision', 'F1']\n",
    "\n",
    "final_score_matrix"
   ]
  },
  {
   "cell_type": "markdown",
   "id": "871a3348",
   "metadata": {},
   "source": [
    "*roc curve*"
   ]
  },
  {
   "cell_type": "code",
   "execution_count": 36,
   "id": "59999dbd",
   "metadata": {},
   "outputs": [],
   "source": [
    "# dictionary with all the roc/auc values\n",
    "dict_roc_auc = {}\n",
    "for i in range(0, folders_splitting_test_train):\n",
    "    dict_roc_auc[i] = modellingPipeLine.roc_curve_plot(dict_models[i], list_y_test[i])\n",
    "\n",
    "final_roc_dict = {}\n",
    "# double for: model - cross validation index\n",
    "for model_name in dict_models[0].keys():\n",
    "    # inizialization:\n",
    "    temp_fpr_append = []\n",
    "    temp_tpr_append = []\n",
    "    temp_auc_score_sum = 0\n",
    "    for cv_index in range(0, folders_splitting_test_train):\n",
    "        # appending arrays\n",
    "        temp_fpr_append.append(dict_roc_auc[cv_index][model_name]['fpr'])\n",
    "        temp_tpr_append.append(dict_roc_auc[cv_index][model_name]['tpr'])\n",
    "        # calculating temp sum\n",
    "        temp_auc_score_sum += dict_roc_auc[cv_index][model_name]['auc_score']\n",
    "    \n",
    "    # check if all the arrays have same legnth, otherwise adding 1\n",
    "    max_length = max(len(fpr) for fpr in temp_fpr_append)\n",
    "    temp_fpr_append = [np.pad(fpr, (0, max_length - len(fpr)), 'constant', constant_values=1) for fpr in temp_fpr_append]\n",
    "    max_length = max(len(tpr) for tpr in temp_tpr_append)\n",
    "    temp_tpr_append = [np.pad(tpr, (0, max_length - len(tpr)), 'constant', constant_values=1) for tpr in temp_tpr_append]\n",
    "    \n",
    "    # calculating average values\n",
    "    final_roc_dict[model_name] = {'fpr': np.mean(temp_fpr_append, axis=0),\n",
    "                                    'tpr': np.mean(temp_tpr_append, axis=0),\n",
    "                                    'auc_score': temp_auc_score_sum/folders_splitting_test_train}"
   ]
  },
  {
   "cell_type": "code",
   "execution_count": 37,
   "id": "62a6b34d",
   "metadata": {},
   "outputs": [
    {
     "data": {
      "image/png": "[encoded data removed]",
      "text/plain": [
       "<Figure size 640x480 with 1 Axes>"
      ]
     },
     "metadata": {},
     "output_type": "display_data"
    }
   ],
   "source": [
    "plt.figure()\n",
    "for name, values in final_roc_dict.items():\n",
    "    plt.plot(values['fpr'], values['tpr'], lw=2, label=f'{name} (AUC = {values['auc_score']:.2f})')\n",
    "plt.plot([0, 1], [0, 1], color='navy', lw=2, linestyle='--')       \n",
    "plt.xlim([0.0, 1.0])\n",
    "plt.ylim([0.0, 1.05])\n",
    "plt.xlabel('False Positive Rate')\n",
    "plt.ylabel('True Positive Rate')\n",
    "plt.title('ROC curve')\n",
    "plt.legend(loc=\"lower right\")\n",
    "plt.show()"
   ]
  }
 ],
 "metadata": {
  "kernelspec": {
   "display_name": "Test",
   "language": "python",
   "name": "python3"
  },
  "language_info": {
   "codemirror_mode": {
    "name": "ipython",
    "version": 3
   },
   "file_extension": ".py",
   "mimetype": "text/x-python",
   "name": "python",
   "nbconvert_exporter": "python",
   "pygments_lexer": "ipython3",
   "version": "3.12.9"
  }
 },
 "nbformat": 4,
 "nbformat_minor": 5
}
